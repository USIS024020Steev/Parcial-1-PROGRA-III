{
  "cells": [
    {
      "cell_type": "markdown",
      "metadata": {
        "id": "view-in-github",
        "colab_type": "text"
      },
      "source": [
        "<a href=\"https://colab.research.google.com/github/USIS024020Steev/Parcial-1-PROGRA-III/blob/main/Te_damos_la_bienvenida_a_Colaboratory.ipynb\" target=\"_parent\"><img src=\"https://colab.research.google.com/assets/colab-badge.svg\" alt=\"Open In Colab\"/></a>"
      ]
    },
    {
      "cell_type": "code",
      "source": [
        "actividadE = float(input(\"INGRESE SU ACTIVIDAD ECONOMICA: $\"))\n",
        "\n",
        "if actividadE < 500:\n",
        "  impuesto = (actividadE - 0.1)/1000*0+1.5\n",
        "  print(\"SU IMPUESTO ES DE: $\",impuesto)\n",
        "elif actividadE < 1000:\n",
        "  impr = (actividadE - 500.01)/1000*3+1.5\n",
        "  print(\"SU IMPUESTO ES DE: $\",impr)\n",
        "elif actividadE < 2000:\n",
        "  impr = (actividadE - 1000.01)/1000*3+3\n",
        "  print(\"SU IMPUESTO ES DE: $\",impr)\n",
        "elif actividadE < 3000:\n",
        "  impr = (actividadE - 2000.01)/1000*3+6\n",
        "  print(\"SU IMPUESTO ES DE: $\",impr)\n",
        "elif actividadE < 6000:\n",
        "  impr = (actividadE - 3000.01)/1000*2+9\n",
        "  print(\"SU IMPUESTO ES DE: $\",impr)\n",
        "elif actividadE < 18000:\n",
        "  impr = (actividadE - 8000.01)/1000*2+15\n",
        "  print(\"SU IMPUESTO ES DE: $\",impr)\n",
        "elif actividadE < 30000:\n",
        "  impr = (actividadE - 18000.01)/1000*2+39\n",
        "  print(\"SU IMPUESTO ES DE: $\",impr)\n",
        "elif actividadE < 60000:\n",
        "  impr = (actividadE - 30000.01)/1000*1+63\n",
        "  print(\"SU IMPUESTO ES DE: $\",impr)\n",
        "elif actividadE < 100000:\n",
        "  impr = (actividadE - 60000.01)/1000*0.8+93\n",
        "  print(\"SU IMPUESTO ES DE: $\",impr)\n",
        "elif actividadE < 200000:\n",
        "  impr = (actividadE - 100000.01)/1000*0.7+125\n",
        "  print(\"SU IMPUESTO ES DE: $\",impr)\n",
        "elif actividadE < 300000:\n",
        "  impr = (actividadE - 200000.01)/1000*0.6+195\n",
        "  print(\"SU IMPUESTO ES DE: $\",impr)\n",
        "elif actividadE < 400000:\n",
        "  impr = (actividadE - 300000.01)/1000*0.45+255\n",
        "  print(\"SU IMPUESTO ES DE: $\",impr)\n",
        "elif actividadE < 500000:\n",
        "  impr = (actividadE - 400000.01)/1000*0.4+300\n",
        "  print(\"SU IMPUESTO ES DE: $\",impr)\n",
        "elif actividadE < 1000000:\n",
        "  impr = (actividadE - 500000.01)/1000*0.30+340\n",
        "  print(\"SU IMPUESTO ES DE: $\",impr)\n",
        "elif actividadE < 99999999:\n",
        "  impr = (actividadE - 100000.01)/1000*0.18+490\n",
        "  print(\"SU IMPUESTO ES DE: $\",impr)\n",
        "else:\n",
        "  print(\"INTRODUZCA BIEN LA CANTIDAD\")"
      ],
      "metadata": {
        "id": "WEGthXADryJn",
        "outputId": "768639c7-4297-4dd7-95c8-e43e7092aca8",
        "colab": {
          "base_uri": "https://localhost:8080/"
        }
      },
      "execution_count": 1,
      "outputs": [
        {
          "output_type": "stream",
          "name": "stdout",
          "text": [
            "INGRESE SU ACTIVIDAD ECONOMICA: $100\n",
            "SU IMPUESTO ES DE: $ 1.5\n"
          ]
        }
      ]
    }
  ],
  "metadata": {
    "colab": {
      "collapsed_sections": [],
      "name": "Te damos la bienvenida a Colaboratory",
      "toc_visible": true,
      "provenance": [],
      "include_colab_link": true
    },
    "kernelspec": {
      "display_name": "Python 3",
      "name": "python3"
    }
  },
  "nbformat": 4,
  "nbformat_minor": 0
}